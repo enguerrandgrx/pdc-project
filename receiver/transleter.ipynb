{
 "cells": [
  {
   "cell_type": "code",
   "execution_count": 97,
   "metadata": {
    "collapsed": false
   },
   "outputs": [],
   "source": [
    "transl = {'00': '000', '01': '001', '02': '010', '10': '011', '11': '100', '12': '101', '20': '110', '21': '111'}\n",
    "\n",
    "def ter_to_bin(s):\n",
    "    str_bin = \"\"\n",
    "    \n",
    "    for i in range(0, int(len(s)), 2):\n",
    "        str_bin = str_bin + transl[s[i:i+2]]\n",
    "                \n",
    "    return str_bin\n",
    "\n",
    "# https://stackoverflow.com/questions/7396849/convert-binary-to-ascii-and-vice-versa\n",
    "def bin_to_ascii(s):\n",
    "    \n",
    "    rem_mod_8 = len(s)%8;\n",
    "    s2 = \"\";\n",
    "    \n",
    "    if (rem_mod_8 == 0):\n",
    "        print(0)\n",
    "        s2 = s\n",
    "    elif (rem_mod_8 == 1):\n",
    "        print(1)\n",
    "        s2 = s[0:len(s)-1]\n",
    "    elif (rem_mod_8 == 2):\n",
    "        print(2)\n",
    "        s2 = s[0:len(s)-2]\n",
    "    \n",
    "    print(len(s2))\n",
    "    \n",
    "    s2 = int((s2), 2)\n",
    "    \n",
    "    return s2.to_bytes((s2.bit_length() + 7) // 8, 'big').decode()\n",
    "    \n",
    "    \n",
    "def ter_to_ascii(s):\n",
    "    return bin_to_ascii(ter_to_bin(s))"
   ]
  },
  {
   "cell_type": "code",
   "execution_count": 101,
   "metadata": {
    "collapsed": false
   },
   "outputs": [
    {
     "name": "stdout",
     "output_type": "stream",
     "text": [
      "011000010110001000\n",
      "2\n",
      "16\n",
      "ab\n",
      "0\n",
      "72\n",
      "BONJOUR!!\n"
     ]
    }
   ],
   "source": [
    "tr = trad(\"100002200100\")\n",
    "\n",
    "print(ter_to_bin('100002200100'))\n",
    "\n",
    "print(bin_to_ascii('011000010110001000'))\n",
    "\n",
    "print(ter_to_ascii('020011112112012002021111211202120211110200111101'))\n",
    "\n",
    "#s = \"011000111001\"\n"
   ]
  }
 ],
 "metadata": {
  "kernelspec": {
   "display_name": "Python [Root]",
   "language": "python",
   "name": "Python [Root]"
  },
  "language_info": {
   "codemirror_mode": {
    "name": "ipython",
    "version": 3
   },
   "file_extension": ".py",
   "mimetype": "text/x-python",
   "name": "python",
   "nbconvert_exporter": "python",
   "pygments_lexer": "ipython3",
   "version": "3.5.3"
  }
 },
 "nbformat": 4,
 "nbformat_minor": 2
}
