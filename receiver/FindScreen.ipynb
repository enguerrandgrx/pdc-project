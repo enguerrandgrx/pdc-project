{
 "cells": [
  {
   "cell_type": "code",
   "execution_count": 35,
   "metadata": {
    "collapsed": true
   },
   "outputs": [],
   "source": [
    "import numpy as np\n",
    "import cv2\n",
    "from matplotlib import pyplot as plt\n",
    "import time "
   ]
  },
  {
   "cell_type": "code",
   "execution_count": 36,
   "metadata": {
    "collapsed": true
   },
   "outputs": [],
   "source": [
    "def resize(im):\n",
    "    x = im.shape[0]\n",
    "    y = im.shape[1]\n",
    "    return im[int(x/3):int(2*x/3), int(y/3):int(2*y/3)]"
   ]
  },
  {
   "cell_type": "code",
   "execution_count": 37,
   "metadata": {
    "collapsed": false,
    "scrolled": true
   },
   "outputs": [],
   "source": [
    "def load_and_resize(path):\n",
    "    # load the image, convert it to grayscale, and blur it\n",
    "    image = cv2.imread(path)\n",
    "    #plt.imshow(image)\n",
    "    #plt.show()\n",
    "    image = resize(image)\n",
    "    imgRGB = cv2.cvtColor(image, cv2.COLOR_BGR2RGB)    \n",
    "    return imgRGB"
   ]
  },
  {
   "cell_type": "code",
   "execution_count": 38,
   "metadata": {
    "collapsed": false,
    "scrolled": true
   },
   "outputs": [],
   "source": [
    "def blur(img):\n",
    "    gray = cv2.cvtColor(img, cv2.COLOR_RGB2GRAY)\n",
    "    seuil=170.0\n",
    "    ret,seg_red = cv2.threshold(img,seuil,255.0,cv2.THRESH_BINARY_INV)\n",
    "    #plt.imshow(seg_red)\n",
    "    #plt.show()\n",
    "    gray = cv2.GaussianBlur(seg_red, (7, 7), 0)\n",
    "    #plt.imshow(gray)\n",
    "    #plt.show()\n",
    "    return gray\n"
   ]
  },
  {
   "cell_type": "code",
   "execution_count": 39,
   "metadata": {
    "collapsed": false
   },
   "outputs": [],
   "source": [
    "def transform(gray):\n",
    "    edged = cv2.Canny(gray, 100, 100)\n",
    "    #plt.imshow(edged)\n",
    "    #plt.show()\n",
    "    kernel = cv2.getStructuringElement(cv2.MORPH_RECT, (10, 10))\n",
    "    closed = cv2.morphologyEx(edged, cv2.MORPH_CLOSE, kernel)\n",
    "    #plt.imshow(closed)\n",
    "    #plt.show()\n",
    "    kernel = cv2.getStructuringElement(cv2.MORPH_RECT, (10, 10))\n",
    "    closed = cv2.morphologyEx(edged, cv2.MORPH_CLOSE, kernel)\n",
    "    #plt.imshow(closed)\n",
    "    #plt.show()\n",
    "    im2, cnts, hierarchy = cv2.findContours(closed.copy(), cv2.RETR_EXTERNAL, cv2.CHAIN_APPROX_SIMPLE)\n",
    "    return cnts"
   ]
  },
  {
   "cell_type": "code",
   "execution_count": 40,
   "metadata": {
    "collapsed": true
   },
   "outputs": [],
   "source": [
    "def find_screen(cnts, image):\n",
    "    total = 0\n",
    "    # loop over the contours\n",
    "    for c in cnts:\n",
    "        # approximate the contour\n",
    "        peri = cv2.arcLength(c, True)\n",
    "        if (peri > 300):\n",
    "            approx = cv2.approxPolyDP(c, 0.02 * peri, True)\n",
    "\n",
    "            # if the approximated contour has four points, then assume that the\n",
    "            # contour is a book -- a book is a rectangle and thus has four vertices\n",
    "            if len(approx) == 4:\n",
    "                print(\"perimetre : \",peri)\n",
    "                print(\"rectangle : \")\n",
    "                print(approx)\n",
    "                cv2.drawContours(image, [approx], -1, (0, 255, 0), 4)\n",
    "                total += 1\n",
    "                return approx"
   ]
  },
  {
   "cell_type": "code",
   "execution_count": 41,
   "metadata": {
    "collapsed": false
   },
   "outputs": [
    {
     "name": "stdout",
     "output_type": "stream",
     "text": [
      "perimetre :  332.3847759962082\n",
      "rectangle : \n",
      "[[[203  79]]\n",
      "\n",
      " [[204 140]]\n",
      "\n",
      " [[305 140]]\n",
      "\n",
      " [[305  77]]]\n",
      "--- 0.11071300506591797 seconds ---\n"
     ]
    }
   ],
   "source": [
    "start_time = time.time()\n",
    "imageRGB = load_and_resize('screen_red.png')\n",
    "find_screen(transform(blur(imageRGB)),imageRGB)\n",
    "print(\"--- %s seconds ---\" % (time.time() - start_time))"
   ]
  },
  {
   "cell_type": "code",
   "execution_count": 42,
   "metadata": {
    "collapsed": true
   },
   "outputs": [],
   "source": [
    "imageRGB = load_and_resize('screen_red.png')\n",
    "\n",
    "wanted_im = imageRGB[77:140, 200:305]\n",
    "test = imageRGB[76:141, 199:306]"
   ]
  },
  {
   "cell_type": "code",
   "execution_count": 43,
   "metadata": {
    "collapsed": false
   },
   "outputs": [
    {
     "data": {
      "image/png": "[encoded data removed]",
      "text/plain": [
       "<matplotlib.figure.Figure at 0x122d62898>"
      ]
     },
     "metadata": {},
     "output_type": "display_data"
    }
   ],
   "source": [
    "plt.imshow(test)\n",
    "plt.show()"
   ]
  }
 ],
 "metadata": {
  "kernelspec": {
   "display_name": "Python 3",
   "language": "python",
   "name": "python3"
  },
  "language_info": {
   "codemirror_mode": {
    "name": "ipython",
    "version": 3
   },
   "file_extension": ".py",
   "mimetype": "text/x-python",
   "name": "python",
   "nbconvert_exporter": "python",
   "pygments_lexer": "ipython3",
   "version": "3.6.0"
  }
 },
 "nbformat": 4,
 "nbformat_minor": 2
}
