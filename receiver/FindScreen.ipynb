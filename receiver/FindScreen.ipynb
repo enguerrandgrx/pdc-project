{
 "cells": [
  {
   "cell_type": "code",
   "execution_count": 121,
   "metadata": {
    "collapsed": true
   },
   "outputs": [],
   "source": [
    "import numpy as np\n",
    "import cv2\n",
    "from matplotlib import pyplot as plt\n",
    "import time \n",
    "import sys"
   ]
  },
  {
   "cell_type": "code",
   "execution_count": 2,
   "metadata": {
    "collapsed": true
   },
   "outputs": [],
   "source": [
    "def resize(im):\n",
    "    x = im.shape[0]\n",
    "    y = im.shape[1]\n",
    "    return im[int(x/3):int(2*x/3), int(y/3):int(2*y/3)]"
   ]
  },
  {
   "cell_type": "code",
   "execution_count": 3,
   "metadata": {
    "collapsed": false,
    "scrolled": true
   },
   "outputs": [],
   "source": [
    "def load_and_resize(path):\n",
    "    image = cv2.imread(path)\n",
    "    #plt.imshow(image)\n",
    "    #plt.show()\n",
    "    image = resize(image)\n",
    "    imgRGB = cv2.cvtColor(image, cv2.COLOR_BGR2RGB)    \n",
    "    return imgRGB"
   ]
  },
  {
   "cell_type": "code",
   "execution_count": 205,
   "metadata": {
    "collapsed": false,
    "scrolled": true
   },
   "outputs": [],
   "source": [
    "def blur(img):\n",
    "    #gray = cv2.cvtColor(img, cv2.COLOR_RGB2GRAY)\n",
    "    \n",
    "    seuil=190.0\n",
    "    ret,seg_red = cv2.threshold(img,190,255.0,cv2.THRESH_BINARY)\n",
    "    plt.imshow(seg_red)\n",
    "    plt.show()\n",
    "    \n",
    "    #gray = cv2.GaussianBlur(seg_red, (7, 7), 0)\n",
    "    #plt.imshow(gray)\n",
    "    #plt.show()\n",
    "    return seg_red\n"
   ]
  },
  {
   "cell_type": "code",
   "execution_count": 179,
   "metadata": {
    "collapsed": false
   },
   "outputs": [],
   "source": [
    "def transform(gray):\n",
    "    edged = cv2.Canny(gray, 100, 100)\n",
    "    #plt.imshow(edged)\n",
    "    #plt.show()\n",
    "    kernel = cv2.getStructuringElement(cv2.MORPH_RECT, (5, 5))\n",
    "    closed = cv2.morphologyEx(edged, cv2.MORPH_CLOSE, kernel)\n",
    "    #plt.imshow(closed)\n",
    "    #plt.show()\n",
    "    im2, cnts, hierarchy = cv2.findContours(closed.copy(), cv2.RETR_EXTERNAL, cv2.CHAIN_APPROX_SIMPLE)\n",
    "    return cnts"
   ]
  },
  {
   "cell_type": "code",
   "execution_count": 180,
   "metadata": {
    "collapsed": false
   },
   "outputs": [],
   "source": [
    "def sobel(img):\n",
    "    scale = 1\n",
    "    delta = 0\n",
    "    ddepth = cv2.CV_16S\n",
    "\n",
    "    img = cv2.GaussianBlur(img,(1,1),0)\n",
    "    gray = cv2.cvtColor(img,cv2.COLOR_BGR2GRAY)\n",
    "    plt.imshow(gray)\n",
    "    plt.show()\n",
    "\n",
    "    # Gradient-X\n",
    "    grad_x = cv2.Sobel(gray,ddepth,1,0,ksize = 3, scale = scale, delta = delta,borderType = cv2.BORDER_DEFAULT)\n",
    "    grad_x = cv2.Scharr(gray,ddepth,1,0)\n",
    "\n",
    "    # Gradient-Y\n",
    "    grad_y = cv2.Sobel(gray,ddepth,0,1,ksize = 3, scale = scale, delta = delta, borderType = cv2.BORDER_DEFAULT)\n",
    "    grad_y = cv2.Scharr(gray,ddepth,0,1)\n",
    "\n",
    "    abs_grad_x = cv2.convertScaleAbs(grad_x)   # converting back to uint8\n",
    "    abs_grad_y = cv2.convertScaleAbs(grad_y)\n",
    "\n",
    "    dst = cv2.addWeighted(abs_grad_x,0.5,abs_grad_y,0.5,0)\n",
    "    dst = cv2.add(abs_grad_x,abs_grad_y)\n",
    "\n",
    "    plt.imshow(dst)\n",
    "    plt.show()\n",
    "    return dst\n"
   ]
  },
  {
   "cell_type": "code",
   "execution_count": 348,
   "metadata": {
    "collapsed": true
   },
   "outputs": [],
   "source": [
    "def find_screen(cnts, image):\n",
    "    total = 0\n",
    "    approx_tmp = 0\n",
    "    approx = []\n",
    "    # loop over the contours\n",
    "    for c in cnts:\n",
    "        # approximate the contour\n",
    "        peri = cv2.arcLength(c, True)\n",
    "        print(\"perimetre \", peri)\n",
    "        approx_tmp = cv2.approxPolyDP(c, 0.02 * peri, True)\n",
    "        approx_tmp = np.squeeze(approx_tmp)\n",
    "        #print(approx)\n",
    "        cv2.drawContours(image, [approx_tmp], -1, (0, 255, 0), 4)\n",
    "        if(len(approx_tmp) == 4):\n",
    "            print(\"On a trouver un rectangle\")\n",
    "            if (peri > 100 and peri < 500):\n",
    "                approx.append(approx_tmp)\n",
    "                #print(approx)\n",
    "                #cv2.drawContours(image, [approx_tmp], -1, (0, 255, 0), 4)\n",
    "    #plt.imshow(image)\n",
    "    #plt.show()\n",
    "    return approx"
   ]
  },
  {
   "cell_type": "code",
   "execution_count": 311,
   "metadata": {
    "collapsed": false
   },
   "outputs": [],
   "source": [
    "def bords(approx):\n",
    "    if(len(approx) == 2):\n",
    "        approx = np.concatenate((approx[0], approx[1]), axis = 0)\n",
    "    approx = np.squeeze(approx)\n",
    "    bord = []\n",
    "    min_x = sys.maxsize\n",
    "    max_x = 0\n",
    "    min_y = sys.maxsize\n",
    "    max_y = 0\n",
    "    config = -1\n",
    "    for appro in approx:\n",
    "        if appro[0] > max_x:\n",
    "            max_x = appro[0]\n",
    "        if appro[0] < min_x:\n",
    "            min_x = appro[0]\n",
    "        if appro[1] > max_y:\n",
    "            max_y = appro[1]\n",
    "        if appro[1] < min_y:\n",
    "            min_y = appro[1]\n",
    "    \n",
    "    bord.extend([min_x, max_x, min_y, max_y])\n",
    "    \n",
    "    if(len(approx) == 4):\n",
    "        if(max_x - min_x > max_y - min_y):\n",
    "            config = 2\n",
    "        else:\n",
    "            config = 1\n",
    "    else:\n",
    "        approx_x = approx[:,0]\n",
    "        approx_y = approx[:,1]\n",
    "        fit = np.polyfit(approx_x,approx_y,1)\n",
    "        if(fit[0] < 0):\n",
    "            config = 3\n",
    "        else: \n",
    "            config = 4\n",
    "    return bord,config"
   ]
  },
  {
   "cell_type": "code",
   "execution_count": 228,
   "metadata": {
    "collapsed": false
   },
   "outputs": [
    {
     "data": {
      "image/png": "[encoded data removed]",
      "text/plain": [
       "<matplotlib.figure.Figure at 0x11c57b470>"
      ]
     },
     "metadata": {},
     "output_type": "display_data"
    },
    {
     "name": "stdout",
     "output_type": "stream",
     "text": [
      "image rouge \n",
      "[[204 201 207]\n",
      " [202 200 207]\n",
      " [201 199 206]\n",
      " ..., \n",
      " [ 47  24  19]\n",
      " [ 48  25  20]\n",
      " [ 49  25  21]]\n"
     ]
    },
    {
     "data": {
      "image/png": "[encoded data removed]",
      "text/plain": [
       "<matplotlib.figure.Figure at 0x11ca91358>"
      ]
     },
     "metadata": {},
     "output_type": "display_data"
    },
    {
     "data": {
      "image/png": "[encoded data removed]",
      "text/plain": [
       "<matplotlib.figure.Figure at 0x11c57b0f0>"
      ]
     },
     "metadata": {},
     "output_type": "display_data"
    },
    {
     "data": {
      "image/png": "[encoded data removed]",
      "text/plain": [
       "<matplotlib.figure.Figure at 0x11c636e48>"
      ]
     },
     "metadata": {},
     "output_type": "display_data"
    },
    {
     "data": {
      "image/png": "[encoded data removed]",
      "text/plain": [
       "<matplotlib.figure.Figure at 0x11ccd9518>"
      ]
     },
     "metadata": {},
     "output_type": "display_data"
    },
    {
     "name": "stdout",
     "output_type": "stream",
     "text": [
      "393.3553384542465\n",
      "perimetre 393.3553384542465\n",
      "13.071067690849304\n",
      "50.97056245803833\n",
      "52.72792184352875\n",
      "59.21320307254791\n",
      "967.6711333990097\n"
     ]
    },
    {
     "data": {
      "image/png": "[encoded data removed]",
      "text/plain": [
       "<matplotlib.figure.Figure at 0x11ca76198>"
      ]
     },
     "metadata": {},
     "output_type": "display_data"
    },
    {
     "name": "stdout",
     "output_type": "stream",
     "text": [
      "les bords sont  [0, 126, 0, 200]\n",
      "La configuration est la  4\n",
      "--- 2.0588481426239014 seconds ---\n"
     ]
    }
   ],
   "source": [
    "start_time = time.time()\n",
    "bord = list()\n",
    "imageRGB = load_and_resize('screen_red3.png')\n",
    "imageRGB = blur(imageRGB)\n",
    "plt.imshow(imageRGB)\n",
    "plt.show()\n",
    "imageS = sobel(imageRGB)\n",
    "approx = find_screen(transform(imageS), imageRGB)\n",
    "bord,config = bords(approx)\n",
    "print(\"les bords sont \", bord)\n",
    "print(\"La configuration est la \", config)\n",
    "    \n",
    "print(\"--- %s seconds ---\" % (time.time() - start_time))"
   ]
  },
  {
   "cell_type": "code",
   "execution_count": 229,
   "metadata": {
    "collapsed": false
   },
   "outputs": [
    {
     "data": {
      "text/plain": [
       "False"
      ]
     },
     "execution_count": 229,
     "metadata": {},
     "output_type": "execute_result"
    }
   ],
   "source": [
    "[149, 170] in approx"
   ]
  },
  {
   "cell_type": "code",
   "execution_count": 101,
   "metadata": {
    "collapsed": false
   },
   "outputs": [
    {
     "data": {
      "text/plain": [
       "array([[[230, 150]],\n",
       "\n",
       "       [[178, 149]],\n",
       "\n",
       "       [[168, 182]],\n",
       "\n",
       "       [[118, 184]],\n",
       "\n",
       "       [[115, 222]],\n",
       "\n",
       "       [[177, 223]],\n",
       "\n",
       "       [[179, 189]],\n",
       "\n",
       "       [[233, 188]]], dtype=int32)"
      ]
     },
     "execution_count": 101,
     "metadata": {},
     "output_type": "execute_result"
    }
   ],
   "source": [
    "approx"
   ]
  },
  {
   "cell_type": "code",
   "execution_count": 102,
   "metadata": {
    "collapsed": false
   },
   "outputs": [
    {
     "data": {
      "text/plain": [
       "[115, 233, 149, 223]"
      ]
     },
     "execution_count": 102,
     "metadata": {},
     "output_type": "execute_result"
    }
   ],
   "source": [
    "bord"
   ]
  },
  {
   "cell_type": "code",
   "execution_count": 106,
   "metadata": {
    "collapsed": false
   },
   "outputs": [
    {
     "name": "stdout",
     "output_type": "stream",
     "text": [
      "(8, 2)\n",
      "(8, 2)\n",
      "[[230 150]\n",
      " [178 149]\n",
      " [168 182]\n",
      " [118 184]\n",
      " [115 222]\n",
      " [177 223]\n",
      " [179 189]\n",
      " [233 188]]\n",
      "[230 178 168 118 115 177 179 233]\n",
      "[150 149 182 184 222 223 189 188]\n",
      "[230 150]\n"
     ]
    }
   ],
   "source": [
    "print(approx.shape)\n",
    "approx = np.squeeze(approx)\n",
    "print(approx.shape)\n",
    "print(approx)\n",
    "print(approx[:,0])\n",
    "print(approx[:,1])\n",
    "print(approx[0])"
   ]
  },
  {
   "cell_type": "code",
   "execution_count": 92,
   "metadata": {
    "collapsed": false
   },
   "outputs": [
    {
     "name": "stdout",
     "output_type": "stream",
     "text": [
      "[230 178 168 118 115 177 179 233]\n",
      "(8,)\n",
      "[150 149 182 184 222 223 189 188]\n",
      "(8,)\n"
     ]
    }
   ],
   "source": [
    "type(approx)\n",
    "approx = np.array(approx)\n",
    "\n",
    "approx[:,:,0]\n",
    "\n",
    "\n",
    "approx_x = np.array(approx[:,:,0])\n",
    "approx_x = np.squeeze(approx_x)\n",
    "\n",
    "approx_y = np.array(approx[:,:,1])\n",
    "approx_y = np.squeeze(approx_y)\n",
    "print(approx_x)\n",
    "print(approx_x.shape)\n",
    "\n",
    "print(approx_y)\n",
    "print(approx_y.shape)"
   ]
  },
  {
   "cell_type": "code",
   "execution_count": 93,
   "metadata": {
    "collapsed": false
   },
   "outputs": [
    {
     "name": "stdout",
     "output_type": "stream",
     "text": [
      "[[[230 150]]\n",
      "\n",
      " [[178 149]]\n",
      "\n",
      " [[168 182]]\n",
      "\n",
      " [[118 184]]\n",
      "\n",
      " [[115 222]]\n",
      "\n",
      " [[177 223]]\n",
      "\n",
      " [[179 189]]\n",
      "\n",
      " [[233 188]]]\n",
      "[  -0.29343622  237.15297961]\n"
     ]
    }
   ],
   "source": [
    "print(approx)\n",
    "\n",
    "fit = np.polyfit(approx_x,approx_y,  1)\n",
    "\n",
    "print(fit)\n"
   ]
  },
  {
   "cell_type": "code",
   "execution_count": 94,
   "metadata": {
    "collapsed": false
   },
   "outputs": [
    {
     "data": {
      "image/png": "[encoded data removed]",
      "text/plain": [
       "<matplotlib.figure.Figure at 0x11c7620f0>"
      ]
     },
     "metadata": {},
     "output_type": "display_data"
    }
   ],
   "source": [
    "plt.plot(approx_x, approx_y, 'o', label='Original data', markersize=10)\n",
    "plt.plot(approx_x, fit[0]*approx_x + fit[1], 'r', label='Fitted line')\n",
    "plt.legend()\n",
    "plt.show()"
   ]
  },
  {
   "cell_type": "code",
   "execution_count": 119,
   "metadata": {
    "collapsed": false
   },
   "outputs": [],
   "source": [
    "import sys"
   ]
  },
  {
   "cell_type": "code",
   "execution_count": 120,
   "metadata": {
    "collapsed": false
   },
   "outputs": [
    {
     "data": {
      "text/plain": [
       "9223372036854775807"
      ]
     },
     "execution_count": 120,
     "metadata": {},
     "output_type": "execute_result"
    }
   ],
   "source": [
    "sys.maxsize"
   ]
  },
  {
   "cell_type": "code",
   "execution_count": 358,
   "metadata": {
    "collapsed": false
   },
   "outputs": [],
   "source": [
    "def detection(path):\n",
    "    start_time = time.time()\n",
    "    img = cv2.imread(path)\n",
    "    img = resize(img)\n",
    "    #on split l'image en fonction des couleurs \n",
    "    b,g,r = cv2.split(img)\n",
    "    \n",
    "    print(\"--- %s seconds ---\" % (time.time() - start_time))\n",
    "\n",
    "    # on parcours l'image et on mets r a 0 si b ou r superieur a un seuil (ici 50)\n",
    "    for x in range(0, r.shape[0]):\n",
    "        for y in range(0, r.shape[1]):\n",
    "            if(b[x][y] > 50 or g[x][y] > 50):\n",
    "                r[x][y] = 0\n",
    "\n",
    "    print(\"--- %s seconds ---\" % (time.time() - start_time))\n",
    "\n",
    "    # on applique un filtre binaire \n",
    "    ret,seg_red = cv2.threshold(r,190,255.0,cv2.THRESH_BINARY)\n",
    "\n",
    "    # detecte \n",
    "    edged = cv2.Canny(seg_red, 100, 100)\n",
    "    \n",
    "    kernel = cv2.getStructuringElement(cv2.MORPH_RECT, (5, 5))\n",
    "    closed = cv2.morphologyEx(edged, cv2.MORPH_CLOSE, kernel)\n",
    "    \n",
    "    im2, cnts, hierarchy = cv2.findContours(closed.copy(), cv2.RETR_EXTERNAL, cv2.CHAIN_APPROX_SIMPLE)\n",
    "\n",
    "    approx = find_screen(cnts, img)\n",
    "\n",
    "    print(bords(approx))\n",
    "    print(\"--- %s seconds ---\" % (time.time() - start_time))\n"
   ]
  },
  {
   "cell_type": "code",
   "execution_count": 363,
   "metadata": {
    "collapsed": false
   },
   "outputs": [
    {
     "name": "stdout",
     "output_type": "stream",
     "text": [
      "--- 0.16934800148010254 seconds ---\n",
      "--- 0.9138102531433105 seconds ---\n",
      "perimetre  250.04163002967834\n",
      "On a trouver un rectangle\n",
      "([179, 231, 149, 220], 1)\n",
      "--- 0.9176392555236816 seconds ---\n"
     ]
    }
   ],
   "source": [
    "detection('screen_red1.png')"
   ]
  },
  {
   "cell_type": "code",
   "execution_count": 364,
   "metadata": {
    "collapsed": false
   },
   "outputs": [
    {
     "name": "stdout",
     "output_type": "stream",
     "text": [
      "--- 0.11343598365783691 seconds ---\n",
      "--- 0.9174818992614746 seconds ---\n",
      "perimetre  251.21320295333862\n",
      "On a trouver un rectangle\n",
      "([149, 221, 166, 219], 2)\n",
      "--- 0.9202489852905273 seconds ---\n"
     ]
    }
   ],
   "source": [
    "detection('screen_red2.png')"
   ]
  },
  {
   "cell_type": "code",
   "execution_count": 361,
   "metadata": {
    "collapsed": false
   },
   "outputs": [
    {
     "name": "stdout",
     "output_type": "stream",
     "text": [
      "--- 0.07519912719726562 seconds ---\n",
      "--- 1.0450901985168457 seconds ---\n",
      "perimetre  185.55634891986847\n",
      "On a trouver un rectangle\n",
      "perimetre  176.3847759962082\n",
      "On a trouver un rectangle\n",
      "([117, 232, 150, 222], 3)\n",
      "--- 1.0491840839385986 seconds ---\n"
     ]
    }
   ],
   "source": [
    "detection('screen_red3.png')"
   ]
  },
  {
   "cell_type": "code",
   "execution_count": 362,
   "metadata": {
    "collapsed": false
   },
   "outputs": [
    {
     "name": "stdout",
     "output_type": "stream",
     "text": [
      "--- 0.10425400733947754 seconds ---\n",
      "--- 1.0665080547332764 seconds ---\n",
      "perimetre  184.97056245803833\n",
      "On a trouver un rectangle\n",
      "perimetre  175.79898953437805\n",
      "On a trouver un rectangle\n",
      "([150, 221, 169, 283], 4)\n",
      "--- 1.0740408897399902 seconds ---\n"
     ]
    }
   ],
   "source": [
    "detection('screen_red4.png')"
   ]
  },
  {
   "cell_type": "code",
   "execution_count": null,
   "metadata": {
    "collapsed": true
   },
   "outputs": [],
   "source": []
  }
 ],
 "metadata": {
  "kernelspec": {
   "display_name": "Python 3",
   "language": "python",
   "name": "python3"
  },
  "language_info": {
   "codemirror_mode": {
    "name": "ipython",
    "version": 3
   },
   "file_extension": ".py",
   "mimetype": "text/x-python",
   "name": "python",
   "nbconvert_exporter": "python",
   "pygments_lexer": "ipython3",
   "version": "3.6.0"
  }
 },
 "nbformat": 4,
 "nbformat_minor": 2
}
